{
 "cells": [
  {
   "cell_type": "markdown",
   "id": "ade5e1b5-6993-4dae-811d-92cd3734f5c6",
   "metadata": {},
   "source": [
    "## Disney Financial Statement Data from FMP API"
   ]
  },
  {
   "cell_type": "code",
   "execution_count": 1,
   "id": "b3fee50a-545a-4fcf-9b4e-c7bb2f7e335b",
   "metadata": {
    "tags": []
   },
   "outputs": [],
   "source": [
    "# Importing needed modules\n",
    "\n",
    "import pandas as pd\n",
    "import requests"
   ]
  },
  {
   "cell_type": "code",
   "execution_count": 2,
   "id": "b17599e5-e8d4-46a2-98a7-bbbdca26bf84",
   "metadata": {},
   "outputs": [],
   "source": [
    "# Importing API\n",
    "\n",
    "api_key = '493deaf7a15df86e9a43f8ce224b7ae9'"
   ]
  },
  {
   "cell_type": "code",
   "execution_count": 3,
   "id": "2488fed9-c907-4015-8c69-317409829784",
   "metadata": {
    "tags": []
   },
   "outputs": [],
   "source": [
    "# Pulling income statement, balance sheet, cash flow statement, as well as stock information, and creating .csv file to clean data in excel\n",
    "company = \"DIS\"\n",
    "years = 4\n",
    "\n",
    "url_income_statement = f'https://financialmodelingprep.com/api/v3/income-statement/{company}?datatype=csv&limit={years}&apikey={api_key}'\n",
    "response = requests.get(url_income_statement)\n",
    "\n",
    "with open('dis_income_stmt.csv','wb') as f:\n",
    "    f.write(response.content)\n"
   ]
  },
  {
   "cell_type": "code",
   "execution_count": null,
   "id": "b817c400-aa9f-4268-aae5-6171fedb736e",
   "metadata": {
    "tags": []
   },
   "outputs": [],
   "source": [
    "# Pulling Balance Sheet\n",
    "\n",
    "url_balance_sheet = f'https://financialmodelingprep.com/api/v3/balance-sheet-statement/{company}?datatype=csv&limit={years}&apikey={api_key}'\n",
    "response = requests.get(url_balance_sheet)\n",
    "\n",
    "with open('dis_balance_sheet.csv','wb') as f:\n",
    "    f.write(response.content)\n"
   ]
  },
  {
   "cell_type": "code",
   "execution_count": 17,
   "id": "23562e73-2173-426b-8f9c-e325b1833dec",
   "metadata": {
    "tags": []
   },
   "outputs": [],
   "source": [
    "# Pulling Cash Flow Statement\n",
    "\n",
    "url_cash_flow = f'https://financialmodelingprep.com/api/v3/cash-flow-statement/{company}?datatype=csv&limit={years}&apikey={api_key}'\n",
    "response = requests.get(url_cash_flow)\n",
    "\n",
    "with open('dis_cash_flow.csv','wb') as f:\n",
    "    f.write(response.content)\n"
   ]
  },
  {
   "cell_type": "code",
   "execution_count": 5,
   "id": "663099ee-1a0b-4bb6-bde8-040ff033b1f2",
   "metadata": {
    "tags": []
   },
   "outputs": [],
   "source": [
    "# Pulling stock data\n",
    "\n",
    "years = 5\n",
    "\n",
    "url_stock_data = f'https://financialmodelingprep.com/api/v3/enterprise-values/{company}?datatype=csv&limit={years}&apikey={api_key}'\n",
    "response = requests.get(url_stock_data)\n",
    "\n",
    "with open('dis_stock_data.csv','wb') as f:\n",
    "    f.write(response.content)\n"
   ]
  },
  {
   "cell_type": "code",
   "execution_count": null,
   "id": "8769e4ca-fc5d-4571-9737-83a793adf670",
   "metadata": {},
   "outputs": [],
   "source": []
  }
 ],
 "metadata": {
  "kernelspec": {
   "display_name": "Python 3 (ipykernel)",
   "language": "python",
   "name": "python3"
  },
  "language_info": {
   "codemirror_mode": {
    "name": "ipython",
    "version": 3
   },
   "file_extension": ".py",
   "mimetype": "text/x-python",
   "name": "python",
   "nbconvert_exporter": "python",
   "pygments_lexer": "ipython3",
   "version": "3.11.1"
  }
 },
 "nbformat": 4,
 "nbformat_minor": 5
}
